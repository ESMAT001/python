{
 "cells": [
  {
   "cell_type": "code",
   "execution_count": 25,
   "metadata": {},
   "outputs": [],
   "source": [
    "student = [\n",
    "    {\n",
    "        'name': 'Ahmad',\n",
    "        'father\\'s name': 'Mohammad',\n",
    "        'age': 23,\n",
    "        'scores_records': [\n",
    "            {\n",
    "                'semester': 1,\n",
    "                'total': 89,\n",
    "            },\n",
    "            {\n",
    "                'semester': 2,\n",
    "                'total': 95\n",
    "            },\n",
    "            {\n",
    "                'semester': 3,\n",
    "                'total': 98\n",
    "            }\n",
    "        ],\n",
    "        'courses_taken': [\n",
    "            {\n",
    "                'id': 'CS101',\n",
    "                'name': 'Intro to Computer Science',\n",
    "            },\n",
    "            {\n",
    "                'id': 'CS102',\n",
    "                'name': 'Intro to Programming with Python',\n",
    "            },\n",
    "            {\n",
    "                'id': 'CS103',\n",
    "                'name': 'Math for Computer Science',\n",
    "            },\n",
    "            {\n",
    "                'id': 'CS104',\n",
    "                'name': 'Data Structures with C',\n",
    "            },\n",
    "            {\n",
    "                'id': 'CS201',\n",
    "                'name': 'Structure and Design of Computer Programs',\n",
    "            },\n",
    "            {\n",
    "                'id': 'CS202',\n",
    "                'name': 'Data Structures and Algorithms',\n",
    "            },\n",
    "            {\n",
    "                'id': 'CS203',\n",
    "                'name': 'Object Oriented Programming with Python',\n",
    "            },\n",
    "            {\n",
    "                'id': 'CS204',\n",
    "                'name': 'Advanced Algorithmics',\n",
    "            },\n",
    "            {\n",
    "                'id': 'CS301',\n",
    "                'name': 'Theory of Computation',\n",
    "            },\n",
    "        ],\n",
    "        'address':{\n",
    "            'country': 'Afghanistan',\n",
    "            'city': 'Kabul',\n",
    "            'zip_code': '10001',\n",
    "            'street': 'Badam Bagh, Karte Parwan',\n",
    "            'phones': ['0799000111', '0798111000'],\n",
    "        },\n",
    "        'schools_attended': [\n",
    "            {\n",
    "                'id': '001',\n",
    "                'school': 'Primary School'\n",
    "            },\n",
    "            {\n",
    "                'id': '002',\n",
    "                'school': 'High School'\n",
    "            },\n",
    "            {\n",
    "                'id': '003',\n",
    "                'school': 'University'\n",
    "            }\n",
    "        ]\n",
    "    },\n",
    "    {\n",
    "        'name': 'Mahmood',\n",
    "        'father\\'s name': 'Mohammad',\n",
    "        'age': 21,\n",
    "        'scores_records': [\n",
    "            {\n",
    "                'semester': 1,\n",
    "                'total': 85\n",
    "            },\n",
    "            {\n",
    "                'semester': 2,\n",
    "                'total': 93\n",
    "            },\n",
    "            {\n",
    "                'semester': 3,\n",
    "                'total': 97\n",
    "            }\n",
    "        ],\n",
    "        'courses_taken': [\n",
    "            {\n",
    "                'id': 'CS101',\n",
    "                'name': 'Intro to Computer Science',\n",
    "            },\n",
    "            {\n",
    "                'id': 'CS102',\n",
    "                'name': 'Intro to Programming with Python',\n",
    "            },\n",
    "            {\n",
    "                'id': 'CS103',\n",
    "                'name': 'Math for Computer Science',\n",
    "            },\n",
    "            {\n",
    "                'id': 'CS104',\n",
    "                'name': 'Data Structures with C',\n",
    "            },\n",
    "            {\n",
    "                'id': 'CS201',\n",
    "                'name': 'Structure and Design of Computer Programs',\n",
    "            },\n",
    "            {\n",
    "                'id': 'CS202',\n",
    "                'name': 'Data Structures and Algorithms',\n",
    "            },\n",
    "            {\n",
    "                'id': 'CS203',\n",
    "                'name': 'Object Oriented Programming with Python',\n",
    "            },\n",
    "            {\n",
    "                'id': 'CS204',\n",
    "                'name': 'Advanced Algorithmics',\n",
    "            },\n",
    "            {\n",
    "                'id': 'CS301',\n",
    "                'name': 'Theory of Computation',\n",
    "            },\n",
    "        ],\n",
    "        'address':{\n",
    "            'country': 'Afghanistan',\n",
    "            'city': 'Kabul',\n",
    "            'zip_code': '10001',\n",
    "            'street': 'Badam Bagh, Karte Parwan',\n",
    "            'phones': ['0798111000'],\n",
    "        },\n",
    "        'schools_attended': [\n",
    "            {\n",
    "                'id': '001',\n",
    "                'school': 'Primary School'\n",
    "            },\n",
    "            {\n",
    "                'id': '002',\n",
    "                'school': 'High School'\n",
    "            },\n",
    "            {\n",
    "                'id': '003',\n",
    "                'school': 'University'\n",
    "            }\n",
    "        ]\n",
    "    },\n",
    "    {\n",
    "        'name': 'Nabi',\n",
    "        'father\\'s name': 'Jawed',\n",
    "        'age': 24,\n",
    "        'scores_records': [\n",
    "            {\n",
    "                'semester': 1,\n",
    "                'total': 85\n",
    "            },\n",
    "            {\n",
    "                'semester': 2,\n",
    "                'total': 93\n",
    "            },\n",
    "            {\n",
    "                'semester': 3,\n",
    "                'total': 97\n",
    "            }\n",
    "        ],\n",
    "        'courses_taken': [\n",
    "            {\n",
    "                'id': 'CS101',\n",
    "                'name': 'Intro to Computer Science',\n",
    "            },\n",
    "            {\n",
    "                'id': 'CS102',\n",
    "                'name': 'Intro to Programming with Python',\n",
    "            },\n",
    "            {\n",
    "                'id': 'CS103',\n",
    "                'name': 'Math for Computer Science',\n",
    "            },\n",
    "            {\n",
    "                'id': 'CS104',\n",
    "                'name': 'Data Structures with C',\n",
    "            },\n",
    "            {\n",
    "                'id': 'CS201',\n",
    "                'name': 'Structure and Design of Computer Programs',\n",
    "            },\n",
    "            {\n",
    "                'id': 'CS202',\n",
    "                'name': 'Data Structures and Algorithms',\n",
    "            },\n",
    "            {\n",
    "                'id': 'CS203',\n",
    "                'name': 'Object Oriented Programming with Python',\n",
    "            },\n",
    "            {\n",
    "                'id': 'CS205',\n",
    "                'name': 'Distributed Systems',\n",
    "            },\n",
    "            {\n",
    "                'id': 'CS302',\n",
    "                'name': 'Computer Networks',\n",
    "            },\n",
    "        ],\n",
    "        'address':{\n",
    "            'country': 'Afghanistan',\n",
    "            'city': 'Kabul',\n",
    "            'zip_code': '10002',\n",
    "            'street': '2nd Street, Khair Khana',\n",
    "            'phones': ['0799000110', '0798111001'],\n",
    "        },\n",
    "        'schools_attended': [\n",
    "            {\n",
    "                'id': '001',\n",
    "                'school': 'Primary School'\n",
    "            },\n",
    "            {\n",
    "                'id': '002',\n",
    "                'school': 'High School'\n",
    "            },\n",
    "            {\n",
    "                'id': '003',\n",
    "                'school': 'University'\n",
    "            }\n",
    "        ]\n",
    "    },\n",
    "    {\n",
    "        'name': 'Elyas',\n",
    "        'father\\'s name': 'Nabi Jan',\n",
    "        'age': 24,\n",
    "        'scores_records': [\n",
    "            {\n",
    "                'semester': 1,\n",
    "                'total': 90\n",
    "            },\n",
    "            {\n",
    "                'semester': 2,\n",
    "                'total': 89\n",
    "            },\n",
    "            {\n",
    "                'semester': 3,\n",
    "                'total': 84\n",
    "            }\n",
    "        ],\n",
    "        'courses_taken': [\n",
    "            {\n",
    "                'id': 'CS103',\n",
    "                'name': 'Math for Computer Science',\n",
    "            },\n",
    "            {\n",
    "                'id': 'CS104',\n",
    "                'name': 'Data Structures with C',\n",
    "            },\n",
    "            {\n",
    "                'id': 'CS201',\n",
    "                'name': 'Structure and Design of Computer Programs',\n",
    "            },\n",
    "            {\n",
    "                'id': 'CS202',\n",
    "                'name': 'Data Structures and Algorithms',\n",
    "            },\n",
    "            {\n",
    "                'id': 'CS203',\n",
    "                'name': 'Object Oriented Programming with Python',\n",
    "            },\n",
    "            {\n",
    "                'id': 'CS205',\n",
    "                'name': 'Distributed Systems',\n",
    "            },\n",
    "            {\n",
    "                'id': 'CS302',\n",
    "                'name': 'Computer Networks',\n",
    "            },\n",
    "        ],\n",
    "        'address':{\n",
    "            'country': 'Afghanistan',\n",
    "            'city': 'Kabul',\n",
    "            'zip_code': '10002',\n",
    "            'street': '2nd Street, Khair Khana',\n",
    "            'phones': ['0799000110', '0798111001'],\n",
    "        },\n",
    "        'schools_attended': [\n",
    "            {\n",
    "                'id': '001',\n",
    "                'school': 'Primary School'\n",
    "            },\n",
    "            {\n",
    "                'id': '002',\n",
    "                'school': 'High School'\n",
    "            },\n",
    "            {\n",
    "                'id': '003',\n",
    "                'school': 'University'\n",
    "            }\n",
    "        ]\n",
    "    },\n",
    "    {\n",
    "        'name': 'Elyas',\n",
    "        'father\\'s name': 'Nabi Jan',\n",
    "        'age': 24,\n",
    "        'scores_records': [\n",
    "            {\n",
    "                'semester': 1,\n",
    "                'total': 90\n",
    "            },\n",
    "            {\n",
    "                'semester': 2,\n",
    "                'total': 89\n",
    "            },\n",
    "            {\n",
    "                'semester': 3,\n",
    "                'total': 84\n",
    "            }\n",
    "        ],\n",
    "        'courses_taken': [\n",
    "            {\n",
    "                'id': 'CS103',\n",
    "                'name': 'Math for Computer Science',\n",
    "            },\n",
    "            {\n",
    "                'id': 'CS104',\n",
    "                'name': 'Data Structures with C',\n",
    "            },\n",
    "            {\n",
    "                'id': 'CS201',\n",
    "                'name': 'Structure and Design of Computer Programs',\n",
    "            },\n",
    "            {\n",
    "                'id': 'CS202',\n",
    "                'name': 'Data Structures and Algorithms',\n",
    "            },\n",
    "            {\n",
    "                'id': 'CS203',\n",
    "                'name': 'Object Oriented Programming with Python',\n",
    "            },\n",
    "            {\n",
    "                'id': 'CS205',\n",
    "                'name': 'Distributed Systems',\n",
    "            },\n",
    "            {\n",
    "                'id': 'CS302',\n",
    "                'name': 'Computer Networks',\n",
    "            },\n",
    "        ],\n",
    "        'address':{\n",
    "            'country': 'Afghanistan',\n",
    "            'city': 'Kabul',\n",
    "            'zip_code': '10002',\n",
    "            'street': '2nd Street, Khair Khana',\n",
    "            'phones': ['0799000110', '0798111001'],\n",
    "        },\n",
    "        'schools_attended': [\n",
    "            {\n",
    "                'id': '001',\n",
    "                'school': 'Primary School'\n",
    "            },\n",
    "            {\n",
    "                'id': '002',\n",
    "                'school': 'High School'\n",
    "            },\n",
    "            {\n",
    "                'id': '003',\n",
    "                'school': 'University'\n",
    "            }\n",
    "        ]\n",
    "    },\n",
    "    {\n",
    "        'name': 'Ahmad',\n",
    "        'father\\'s name': 'Mohammad',\n",
    "        'age': 23,\n",
    "        'scores_records': [\n",
    "            {\n",
    "                'semester': 1,\n",
    "                'total': 89,\n",
    "            },\n",
    "            {\n",
    "                'semester': 2,\n",
    "                'total': 95\n",
    "            },\n",
    "            {\n",
    "                'semester': 3,\n",
    "                'total': 94\n",
    "            }\n",
    "        ],\n",
    "        'courses_taken': [\n",
    "            {\n",
    "                'id': 'CS101',\n",
    "                'name': 'Intro to Computer Science',\n",
    "            },\n",
    "            {\n",
    "                'id': 'CS102',\n",
    "                'name': 'Intro to Programming with Python',\n",
    "            },\n",
    "            {\n",
    "                'id': 'CS103',\n",
    "                'name': 'Math for Computer Science',\n",
    "            },\n",
    "            {\n",
    "                'id': 'CS104',\n",
    "                'name': 'Data Structures with C',\n",
    "            },\n",
    "            {\n",
    "                'id': 'CS201',\n",
    "                'name': 'Structure and Design of Computer Programs',\n",
    "            },\n",
    "            {\n",
    "                'id': 'CS202',\n",
    "                'name': 'Data Structures and Algorithms',\n",
    "            },\n",
    "            {\n",
    "                'id': 'CS203',\n",
    "                'name': 'Object Oriented Programming with Python',\n",
    "            },\n",
    "            {\n",
    "                'id': 'CS204',\n",
    "                'name': 'Advanced Algorithmics',\n",
    "            },\n",
    "            {\n",
    "                'id': 'CS301',\n",
    "                'name': 'Theory of Computation',\n",
    "            },\n",
    "        ],\n",
    "        'address':{\n",
    "            'country': 'Afghanistan',\n",
    "            'city': 'Kabul',\n",
    "            'zip_code': '10001',\n",
    "            'street': 'Badam Bagh, Karte Parwan',\n",
    "            'phones': ['0799000111', '0798111000'],\n",
    "        },\n",
    "        'schools_attended': [\n",
    "            {\n",
    "                'id': '001',\n",
    "                'school': 'Primary School'\n",
    "            },\n",
    "            {\n",
    "                'id': '002',\n",
    "                'school': 'High School'\n",
    "            },\n",
    "            {\n",
    "                'id': '003',\n",
    "                'school': 'University'\n",
    "            }\n",
    "        ]\n",
    "    },\n",
    "    {\n",
    "        'name': 'Karim',\n",
    "        'father\\'s name': 'Mohammad',\n",
    "        'age': 23,\n",
    "        'scores_records': [\n",
    "            {\n",
    "                'semester': 1,\n",
    "                'total': 81,\n",
    "            },\n",
    "            {\n",
    "                'semester': 2,\n",
    "                'total': 95\n",
    "            },\n",
    "            {\n",
    "                'semester': 3,\n",
    "                'total': 98\n",
    "            }\n",
    "        ],\n",
    "        'courses_taken': [\n",
    "            {\n",
    "                'id': 'CS101',\n",
    "                'name': 'Intro to Computer Science',\n",
    "            },\n",
    "            {\n",
    "                'id': 'CS102',\n",
    "                'name': 'Intro to Programming with Python',\n",
    "            },\n",
    "            {\n",
    "                'id': 'CS103',\n",
    "                'name': 'Math for Computer Science',\n",
    "            },\n",
    "            {\n",
    "                'id': 'CS104',\n",
    "                'name': 'Data Structures with C',\n",
    "            },\n",
    "            {\n",
    "                'id': 'CS201',\n",
    "                'name': 'Structure and Design of Computer Programs',\n",
    "            },\n",
    "            {\n",
    "                'id': 'CS202',\n",
    "                'name': 'Data Structures and Algorithms',\n",
    "            },\n",
    "            {\n",
    "                'id': 'CS203',\n",
    "                'name': 'Object Oriented Programming with Python',\n",
    "            },\n",
    "            {\n",
    "                'id': 'CS204',\n",
    "                'name': 'Advanced Algorithmics',\n",
    "            },\n",
    "            {\n",
    "                'id': 'CS301',\n",
    "                'name': 'Theory of Computation',\n",
    "            },\n",
    "        ],\n",
    "        'address':{\n",
    "            'country': 'Afghanistan',\n",
    "            'city': 'Kabul',\n",
    "            'zip_code': '10001',\n",
    "            'street': 'Badam Bagh, Karte Parwan',\n",
    "            'phones': ['0799000111', '0798111000'],\n",
    "        },\n",
    "        'schools_attended': [\n",
    "            {\n",
    "                'id': '001',\n",
    "                'school': 'Primary School'\n",
    "            },\n",
    "            {\n",
    "                'id': '002',\n",
    "                'school': 'High School'\n",
    "            },\n",
    "            {\n",
    "                'id': '003',\n",
    "                'school': 'University'\n",
    "            }\n",
    "        ]\n",
    "    }\n",
    "]"
   ]
  },
  {
   "cell_type": "code",
   "execution_count": 26,
   "metadata": {},
   "outputs": [],
   "source": [
    "# Write code to do the following:\n",
    "# 1. What's the total number of courses taken by each student?\n",
    "# 2. Print name of students,but don't display repeated names(from each repeated name one should be display)?\n",
    "# 3. Print names of students and total of scores in all semester the take(ahmad ***)?\n",
    "# 4. Update street address of ahmad from (Badam Bagh, Karte Parwan) to (Taimany) and also add previous_street:Badam Bagh, Karte Parwan\n",
    "# 5. Which names are repeated in our student list?\n",
    "# 6. Add 2 points to all students 1st semester score.\n",
    "# 7. Print the addresses of student which are same. \n",
    "# 8. Print print name of students with average number of all semesters\n",
    "# 9. Are Ahmad and Karim are living in one house ?\n",
    "# 10. Print the date of birth of all students(current_year-age)\n",
    "# 11. Subtrack 8 points from 3rd semester of each students ?\n",
    "# 12. How many phone numbers does Mahmood have ?\n",
    "# 13. Nabi has attend graduate school update his records accordingly.\n",
    "# 14. Add the following number to Nabi's records 0788110011\n",
    "# 15. Print the highest total score acheived by a student\n",
    "# 16. Change Nabi's city to Kandahar and update the previous city with key:pre_city(pre_city:Kabul)\n",
    "# 17. Change Nabi's school name with id=003 to 'College' and add key:pre_id(pre_id:003)\n",
    "# 18. Print the ahmad details like a table just mentioned fields(name ,Father name,age,address(concat(country,city,street,zipcode))) first print title then print values\n",
    "# 19. What kind of contact information do we have available from Karim?\n",
    "# 20. Print the total of max score of student(who took the max number) and min score of student (max+min)"
   ]
  },
  {
   "cell_type": "code",
   "execution_count": 65,
   "metadata": {},
   "outputs": [
    {
     "output_type": "execute_result",
     "data": {
      "text/plain": [
       "59"
      ]
     },
     "metadata": {},
     "execution_count": 65
    }
   ],
   "source": [
    "# 1. What's the total number of courses taken by each student?\n",
    "total =len(student[0]['courses_taken']) + len(student[1]['courses_taken'])\\\n",
    "       +len(student[2]['courses_taken'])+ len(student[3]['courses_taken'])\\\n",
    "       +len(student[4]['courses_taken'])+ len(student[5]['courses_taken'])\\\n",
    "            +len(student[6]['courses_taken'])\n",
    "total"
   ]
  },
  {
   "cell_type": "code",
   "execution_count": 66,
   "metadata": {},
   "outputs": [
    {
     "output_type": "execute_result",
     "data": {
      "text/plain": [
       "{'Ahmad', 'Elyas', 'Karim', 'Mahmood', 'Nabi'}"
      ]
     },
     "metadata": {},
     "execution_count": 66
    }
   ],
   "source": [
    "# 2. Print name of students,but don't display repeated names(from each repeated name one should be display)?\n",
    "name={student[0]['name'],student[1]['name'],student[2]['name'],student[3]['name'],student[4]['name'],student[5]['name'],student[6]['name']}\n",
    "name"
   ]
  },
  {
   "cell_type": "code",
   "execution_count": 11,
   "metadata": {},
   "outputs": [
    {
     "output_type": "stream",
     "name": "stdout",
     "text": [
      "Ahmad 282\nMahmood 275\nNabi 275\nElyas 263\nElyas 263\nAhmad 278\nKarim 274\n"
     ]
    }
   ],
   "source": [
    "# 3. Print names of students and total of scores in all semester the take(ahmad ***)?\n",
    "s1=[student[0][\"name\"],\n",
    "    [student[0]['scores_records'][0]['total'],\n",
    "     student[0]['scores_records'][1]['total'],\n",
    "     student[0]['scores_records'][2]['total']\n",
    "        ]\n",
    "    ]\n",
    "s2=[student[1][\"name\"],\n",
    "    [student[1]['scores_records'][0]['total'],\n",
    "     student[1]['scores_records'][1]['total'],\n",
    "     student[1]['scores_records'][2]['total']\n",
    "        ]\n",
    "    ]\n",
    "s3=[student[2][\"name\"],\n",
    "    [student[2]['scores_records'][0]['total'],\n",
    "     student[2]['scores_records'][1]['total'],\n",
    "     student[2]['scores_records'][2]['total']\n",
    "        ]\n",
    "    ]\n",
    "s4=[student[3][\"name\"],\n",
    "    [student[3]['scores_records'][0]['total'],\n",
    "     student[3]['scores_records'][1]['total'],\n",
    "     student[3]['scores_records'][2]['total']\n",
    "        ]\n",
    "    ]\n",
    "s5=[student[4][\"name\"],\n",
    "    [student[4]['scores_records'][0]['total'],\n",
    "     student[4]['scores_records'][1]['total'],\n",
    "     student[4]['scores_records'][2]['total']\n",
    "        ]\n",
    "    ]\n",
    "s6=[student[5][\"name\"],\n",
    "    [student[5]['scores_records'][0]['total'],\n",
    "     student[5]['scores_records'][1]['total'],\n",
    "     student[5]['scores_records'][2]['total']\n",
    "        ]\n",
    "    ]\n",
    "s7=[student[6][\"name\"],\n",
    "    [student[6]['scores_records'][0]['total'],\n",
    "     student[6]['scores_records'][1]['total'],\n",
    "     student[6]['scores_records'][2]['total']\n",
    "        ]\n",
    "    ]\n",
    "total_scores=[\n",
    "    sum(s1[1]),\n",
    "    sum(s2[1]),\n",
    "    sum(s3[1]),\n",
    "    sum(s4[1]),\n",
    "    sum(s5[1]),\n",
    "    sum(s6[1]),\n",
    "    sum(s7[1])\n",
    "]\n",
    "print(s1[0],total_scores[0])\n",
    "print(s2[0],total_scores[1])\n",
    "print(s3[0],total_scores[2])\n",
    "print(s4[0],total_scores[3])\n",
    "print(s5[0],total_scores[4])\n",
    "print(s6[0],total_scores[5])\n",
    "print(s7[0],total_scores[6])"
   ]
  },
  {
   "cell_type": "code",
   "execution_count": 75,
   "metadata": {},
   "outputs": [
    {
     "output_type": "execute_result",
     "data": {
      "text/plain": [
       "{'country': 'Afghanistan',\n",
       " 'city': 'Kabul',\n",
       " 'zip_code': '10001',\n",
       " 'street': 'Taimany',\n",
       " 'phones': ['0799000111', '0798111000'],\n",
       " 'previous_street': 'Badam Bagh, Karte Parwan'}"
      ]
     },
     "metadata": {},
     "execution_count": 75
    }
   ],
   "source": [
    "# 4. Update street address of ahmad from (Badam Bagh, Karte Parwan) to (Taimany) and also add previous_street:Badam Bagh, Karte Parwan\n",
    "student[0]['address'].update({\n",
    "    'street':'Taimany',\n",
    "    'previous_street':'Badam Bagh, Karte Parwan'\n",
    "})\n",
    "student[0]['address']"
   ]
  },
  {
   "cell_type": "code",
   "execution_count": 37,
   "metadata": {},
   "outputs": [
    {
     "output_type": "execute_result",
     "data": {
      "text/plain": [
       "{'Elyas': 2, 'Mahmood': 1, 'Nabi': 1, 'Karim': 1, 'Ahmad': 2}"
      ]
     },
     "metadata": {},
     "execution_count": 37
    }
   ],
   "source": [
    "# 5. Which names are repeated in our student list?\n",
    "names_list=[\n",
    "    student[0]['name'],\n",
    "    student[1]['name'],\n",
    "    student[2]['name'],\n",
    "    student[3]['name'],\n",
    "    student[4]['name'],\n",
    "    student[5]['name'],\n",
    "    student[6]['name']\n",
    "]\n",
    "names_set=list(set(names_list))\n",
    "names_dictionary=dict()\n",
    "names_dictionary[names_set[0]]=names_list.count(names_set[0])\n",
    "names_dictionary[names_set[1]]=names_list.count(names_set[1])\n",
    "names_dictionary[names_set[2]]=names_list.count(names_set[2])\n",
    "names_dictionary[names_set[3]]=names_list.count(names_set[3])\n",
    "names_dictionary[names_set[4]]=names_list.count(names_set[4])\n",
    "names_dictionary"
   ]
  },
  {
   "cell_type": "code",
   "execution_count": null,
   "metadata": {},
   "outputs": [],
   "source": []
  },
  {
   "cell_type": "code",
   "execution_count": 138,
   "metadata": {},
   "outputs": [],
   "source": [
    "# 6. Add 2 points to all students 1st semester score.\n",
    "student[0]['scores_records'][0]['total']+=2\n",
    "student[1]['scores_records'][0]['total']+=2\n",
    "student[2]['scores_records'][0]['total']+=2\n",
    "student[3]['scores_records'][0]['total']+=2\n",
    "student[4]['scores_records'][0]['total']+=2\n",
    "student[5]['scores_records'][0]['total']+=2\n",
    "student[6]['scores_records'][0]['total']+=2"
   ]
  },
  {
   "cell_type": "code",
   "execution_count": 179,
   "metadata": {},
   "outputs": [
    {
     "output_type": "stream",
     "name": "stdout",
     "text": [
      "True\n"
     ]
    }
   ],
   "source": [
    "# 7. Print the addresses of student which are same. \n",
    "s1_add=tuple(student[-1]['address'].values())\n",
    "s2_add=tuple(student[1]['address'].values())"
   ]
  },
  {
   "cell_type": "code",
   "execution_count": 185,
   "metadata": {},
   "outputs": [
    {
     "output_type": "stream",
     "name": "stdout",
     "text": [
      "Ahmad 94.66666666666667\nMahmood 92.33333333333333\nNabi 92.33333333333333\nElyas 88.33333333333333\nElyas 88.33333333333333\nAhmad 94.66666666666667\nKarim 92.0\n"
     ]
    }
   ],
   "source": [
    "# 8. Print print name of students with average number of all semesters\n",
    "print(s1[0],sum(s1[1])/len(s1[1]))\n",
    "print(s2[0],sum(s2[1])/len(s2[1]))\n",
    "print(s3[0],sum(s3[1])/len(s3[1]))\n",
    "print(s4[0],sum(s4[1])/len(s4[1]))\n",
    "print(s5[0],sum(s5[1])/len(s5[1]))\n",
    "print(s6[0],sum(s6[1])/len(s6[1]))\n",
    "print(s7[0],sum(s7[1])/len(s7[1]))"
   ]
  },
  {
   "cell_type": "code",
   "execution_count": 189,
   "metadata": {},
   "outputs": [
    {
     "output_type": "execute_result",
     "data": {
      "text/plain": [
       "False"
      ]
     },
     "metadata": {},
     "execution_count": 189
    }
   ],
   "source": [
    "# 9. Are Ahmad and Karim are living in one house ?\n",
    "student[0]['address']['street'] == student[-1]['address']['street']"
   ]
  },
  {
   "cell_type": "code",
   "execution_count": 193,
   "metadata": {},
   "outputs": [
    {
     "output_type": "stream",
     "name": "stdout",
     "text": [
      "1997\n1999\n1996\n1996\n1996\n1997\n1997\n"
     ]
    }
   ],
   "source": [
    "# 10. Print the date of birth of all students(current_year-age)\n",
    "print(2020-student[0]['age'])\n",
    "print(2020-student[1]['age'])\n",
    "print(2020-student[2]['age'])\n",
    "print(2020-student[3]['age'])\n",
    "print(2020-student[4]['age'])\n",
    "print(2020-student[5]['age'])\n",
    "print(2020-student[6]['age'])"
   ]
  },
  {
   "cell_type": "code",
   "execution_count": 196,
   "metadata": {},
   "outputs": [],
   "source": [
    "# 11. Subtrack 8 points from 3rd semester of each students ?\n",
    "student[0]['scores_records'][-1]['total']+=8\n",
    "student[1]['scores_records'][-1]['total']+=8\n",
    "student[2]['scores_records'][-1]['total']+=8\n",
    "student[3]['scores_records'][-1]['total']+=8\n",
    "student[4]['scores_records'][-1]['total']+=8\n",
    "student[5]['scores_records'][-1]['total']+=8\n",
    "student[6]['scores_records'][-1]['total']+=8"
   ]
  },
  {
   "cell_type": "code",
   "execution_count": 201,
   "metadata": {},
   "outputs": [
    {
     "output_type": "execute_result",
     "data": {
      "text/plain": [
       "1"
      ]
     },
     "metadata": {},
     "execution_count": 201
    }
   ],
   "source": [
    "# 12. How many phone numbers does Mahmood have ?\n",
    "len(student[1]['address']['phones'])"
   ]
  },
  {
   "cell_type": "code",
   "execution_count": 208,
   "metadata": {},
   "outputs": [
    {
     "output_type": "execute_result",
     "data": {
      "text/plain": [
       "[{'id': '001', 'school': 'Primary School'},\n",
       " {'id': '002', 'school': 'High School'},\n",
       " {'id': '003', 'school': 'University'},\n",
       " {'id': '004', 'school': 'graduate school'}]"
      ]
     },
     "metadata": {},
     "execution_count": 208
    }
   ],
   "source": [
    "# 13. Nabi has attend graduate school update his records accordingly.\n",
    "\n",
    "student[2]['schools_attended'].append({\n",
    "    \"id\":\"004\",\n",
    "    'school':'graduate school'\n",
    "})\n",
    "\n",
    "student[2]['schools_attended']\n"
   ]
  },
  {
   "cell_type": "code",
   "execution_count": 216,
   "metadata": {},
   "outputs": [
    {
     "output_type": "execute_result",
     "data": {
      "text/plain": [
       "['0799000110', '0798111001', '0788110011']"
      ]
     },
     "metadata": {},
     "execution_count": 216
    }
   ],
   "source": [
    "# 14. Add the following number to Nabi's records 0788110011\n",
    "student[2]['address']['phones'].append(\"0788110011\")\n",
    "student[2]['address']['phones']"
   ]
  },
  {
   "cell_type": "code",
   "execution_count": 219,
   "metadata": {},
   "outputs": [
    {
     "output_type": "execute_result",
     "data": {
      "text/plain": [
       "292"
      ]
     },
     "metadata": {},
     "execution_count": 219
    }
   ],
   "source": [
    "# 15. Print the highest total score acheived by a student\n",
    "max(total_scores)"
   ]
  },
  {
   "cell_type": "code",
   "execution_count": 224,
   "metadata": {},
   "outputs": [],
   "source": [
    "# 16. Change Nabi's city to Kandahar and update the previous city with key:pre_city(pre_city:Kabul)\n",
    "student[2]['address'].update({\n",
    "    'city':\"Kandahar\",\n",
    "    \"pre_city\":\"Kabul\"\n",
    "})\n"
   ]
  },
  {
   "cell_type": "code",
   "execution_count": 232,
   "metadata": {},
   "outputs": [],
   "source": [
    "\n",
    "# 17. Change Nabi's school name with id=003 to 'College' and add key:pre_id(pre_id:003)\n",
    "student[2]['schools_attended'][2].update({\n",
    "    'school':'College',\n",
    "    \"pre_id\":\"003\"\n",
    "})\n"
   ]
  },
  {
   "cell_type": "code",
   "execution_count": 241,
   "metadata": {},
   "outputs": [
    {
     "output_type": "stream",
     "name": "stdout",
     "text": [
      "name | Father | age |    address    |\nAhmad | Mohammad | 23 |Afghanistan,Kabul,Taimany,10001|\n"
     ]
    }
   ],
   "source": [
    "# 18. Print the ahmad details like a table just mentioned fields(name ,Father name,age,address(concat(country,city,street,zipcode))) first print title then print values\n",
    "print('name | Father | age |    address    |')\n",
    "print(f\"\"\"{student[0]['name']} | {student[0][\"father's name\"]} | {student[0]['age']} |{student[0]['address']['country']},{student[0]['address']['city']},{student[0]['address']['street']},{student[0]['address']['zip_code']}|\"\"\")\n",
    "\n",
    "\n"
   ]
  },
  {
   "cell_type": "code",
   "execution_count": 244,
   "metadata": {},
   "outputs": [
    {
     "output_type": "execute_result",
     "data": {
      "text/plain": [
       "dict_keys(['country', 'city', 'zip_code', 'street', 'phones'])"
      ]
     },
     "metadata": {},
     "execution_count": 244
    }
   ],
   "source": [
    "# 19. What kind of contact information do we have available from Karim?\n",
    "student[-1][\"address\"].keys()\n"
   ]
  },
  {
   "cell_type": "code",
   "execution_count": 38,
   "metadata": {},
   "outputs": [
    {
     "output_type": "stream",
     "name": "stdout",
     "text": [
      "max score: Ahmad - 282\nmin score: Elyas - 263\n"
     ]
    }
   ],
   "source": [
    "# 20. Print the total of max score of student(who took the max number) and min score of student (max+min)\n",
    "scores=[\n",
    "    names_list,\n",
    "    [sum(s1[1]),sum(s2[1]),sum(s3[1]),sum(s4[1]),sum(s5[1]),sum(s6[1]),sum(s7[1])]\n",
    "]\n",
    "max_score=max(scores[1])\n",
    "min_score=min(scores[1])\n",
    "print(f\"max score: {scores[0][scores[1].index(max_score)]} - {max_score}\")\n",
    "print(f\"min score: {scores[0][scores[1].index(min_score)]} - {min_score}\")"
   ]
  },
  {
   "cell_type": "code",
   "execution_count": null,
   "metadata": {},
   "outputs": [],
   "source": []
  }
 ],
 "metadata": {
  "kernelspec": {
   "display_name": "Python 3",
   "language": "python",
   "name": "python3"
  },
  "language_info": {
   "codemirror_mode": {
    "name": "ipython",
    "version": 3
   },
   "file_extension": ".py",
   "mimetype": "text/x-python",
   "name": "python",
   "nbconvert_exporter": "python",
   "pygments_lexer": "ipython3",
   "version": "3.8.5-final"
  }
 },
 "nbformat": 4,
 "nbformat_minor": 2
}